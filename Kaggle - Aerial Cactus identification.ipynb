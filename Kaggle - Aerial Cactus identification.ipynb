{
 "cells": [
  {
   "cell_type": "markdown",
   "metadata": {},
   "source": [
    "# Importing Libraries"
   ]
  },
  {
   "cell_type": "code",
   "execution_count": 1,
   "metadata": {
    "ExecuteTime": {
     "end_time": "2019-10-05T06:54:43.852463Z",
     "start_time": "2019-10-05T06:54:39.484429Z"
    }
   },
   "outputs": [
    {
     "name": "stderr",
     "output_type": "stream",
     "text": [
      "/home/shushrut/anaconda3/envs/tfg/lib/python3.7/site-packages/tensorflow/python/framework/dtypes.py:516: FutureWarning: Passing (type, 1) or '1type' as a synonym of type is deprecated; in a future version of numpy, it will be understood as (type, (1,)) / '(1,)type'.\n",
      "  _np_qint8 = np.dtype([(\"qint8\", np.int8, 1)])\n",
      "/home/shushrut/anaconda3/envs/tfg/lib/python3.7/site-packages/tensorflow/python/framework/dtypes.py:517: FutureWarning: Passing (type, 1) or '1type' as a synonym of type is deprecated; in a future version of numpy, it will be understood as (type, (1,)) / '(1,)type'.\n",
      "  _np_quint8 = np.dtype([(\"quint8\", np.uint8, 1)])\n",
      "/home/shushrut/anaconda3/envs/tfg/lib/python3.7/site-packages/tensorflow/python/framework/dtypes.py:518: FutureWarning: Passing (type, 1) or '1type' as a synonym of type is deprecated; in a future version of numpy, it will be understood as (type, (1,)) / '(1,)type'.\n",
      "  _np_qint16 = np.dtype([(\"qint16\", np.int16, 1)])\n",
      "/home/shushrut/anaconda3/envs/tfg/lib/python3.7/site-packages/tensorflow/python/framework/dtypes.py:519: FutureWarning: Passing (type, 1) or '1type' as a synonym of type is deprecated; in a future version of numpy, it will be understood as (type, (1,)) / '(1,)type'.\n",
      "  _np_quint16 = np.dtype([(\"quint16\", np.uint16, 1)])\n",
      "/home/shushrut/anaconda3/envs/tfg/lib/python3.7/site-packages/tensorflow/python/framework/dtypes.py:520: FutureWarning: Passing (type, 1) or '1type' as a synonym of type is deprecated; in a future version of numpy, it will be understood as (type, (1,)) / '(1,)type'.\n",
      "  _np_qint32 = np.dtype([(\"qint32\", np.int32, 1)])\n",
      "/home/shushrut/anaconda3/envs/tfg/lib/python3.7/site-packages/tensorflow/python/framework/dtypes.py:525: FutureWarning: Passing (type, 1) or '1type' as a synonym of type is deprecated; in a future version of numpy, it will be understood as (type, (1,)) / '(1,)type'.\n",
      "  np_resource = np.dtype([(\"resource\", np.ubyte, 1)])\n",
      "/home/shushrut/anaconda3/envs/tfg/lib/python3.7/site-packages/tensorboard/compat/tensorflow_stub/dtypes.py:541: FutureWarning: Passing (type, 1) or '1type' as a synonym of type is deprecated; in a future version of numpy, it will be understood as (type, (1,)) / '(1,)type'.\n",
      "  _np_qint8 = np.dtype([(\"qint8\", np.int8, 1)])\n",
      "/home/shushrut/anaconda3/envs/tfg/lib/python3.7/site-packages/tensorboard/compat/tensorflow_stub/dtypes.py:542: FutureWarning: Passing (type, 1) or '1type' as a synonym of type is deprecated; in a future version of numpy, it will be understood as (type, (1,)) / '(1,)type'.\n",
      "  _np_quint8 = np.dtype([(\"quint8\", np.uint8, 1)])\n",
      "/home/shushrut/anaconda3/envs/tfg/lib/python3.7/site-packages/tensorboard/compat/tensorflow_stub/dtypes.py:543: FutureWarning: Passing (type, 1) or '1type' as a synonym of type is deprecated; in a future version of numpy, it will be understood as (type, (1,)) / '(1,)type'.\n",
      "  _np_qint16 = np.dtype([(\"qint16\", np.int16, 1)])\n",
      "/home/shushrut/anaconda3/envs/tfg/lib/python3.7/site-packages/tensorboard/compat/tensorflow_stub/dtypes.py:544: FutureWarning: Passing (type, 1) or '1type' as a synonym of type is deprecated; in a future version of numpy, it will be understood as (type, (1,)) / '(1,)type'.\n",
      "  _np_quint16 = np.dtype([(\"quint16\", np.uint16, 1)])\n",
      "/home/shushrut/anaconda3/envs/tfg/lib/python3.7/site-packages/tensorboard/compat/tensorflow_stub/dtypes.py:545: FutureWarning: Passing (type, 1) or '1type' as a synonym of type is deprecated; in a future version of numpy, it will be understood as (type, (1,)) / '(1,)type'.\n",
      "  _np_qint32 = np.dtype([(\"qint32\", np.int32, 1)])\n",
      "/home/shushrut/anaconda3/envs/tfg/lib/python3.7/site-packages/tensorboard/compat/tensorflow_stub/dtypes.py:550: FutureWarning: Passing (type, 1) or '1type' as a synonym of type is deprecated; in a future version of numpy, it will be understood as (type, (1,)) / '(1,)type'.\n",
      "  np_resource = np.dtype([(\"resource\", np.ubyte, 1)])\n"
     ]
    }
   ],
   "source": [
    "import os\n",
    "import seaborn as sns\n",
    "import pylab as plt\n",
    "import numpy as np \n",
    "import pandas as pd\n",
    "import tensorflow\n",
    "\n",
    "from tensorflow.keras import Sequential, regularizers\n",
    "from tensorflow.keras.layers import Dense, Flatten, Conv2D, MaxPooling2D, Dropout, BatchNormalization, Activation\n",
    "from tensorflow.keras.optimizers import Adam, RMSprop, Adadelta\n",
    "from tensorflow.keras.callbacks import EarlyStopping, ModelCheckpoint\n",
    "\n",
    "from keras_preprocessing import image\n",
    "from keras_preprocessing.image import ImageDataGenerator\n",
    "\n",
    "from keras_applications import inception_v3, nasnet, vgg19, xception, mobilenet_v2\n",
    "from keras_applications.imagenet_utils import preprocess_input\n",
    "\n",
    "from IPython import InteractiveShell\n",
    "from IPython.display import Image\n",
    "%matplotlib inline\n",
    "\n",
    "import warnings as wrn\n",
    "wrn.filterwarnings('ignore')"
   ]
  },
  {
   "cell_type": "markdown",
   "metadata": {},
   "source": [
    "# Importing data"
   ]
  },
  {
   "cell_type": "code",
   "execution_count": 2,
   "metadata": {
    "ExecuteTime": {
     "end_time": "2019-10-05T06:54:43.883360Z",
     "start_time": "2019-10-05T06:54:43.855087Z"
    }
   },
   "outputs": [],
   "source": [
    "train_dir = \"train\"\n",
    "test_dir  = \"test\"\n",
    "train_df = pd.read_csv('train.csv')"
   ]
  },
  {
   "cell_type": "code",
   "execution_count": 3,
   "metadata": {
    "ExecuteTime": {
     "end_time": "2019-10-05T06:54:43.977669Z",
     "start_time": "2019-10-05T06:54:43.887614Z"
    }
   },
   "outputs": [
    {
     "data": {
      "image/jpeg": "[encoded data removed]",
      "text/plain": [
       "<IPython.core.display.Image object>"
      ]
     },
     "execution_count": 3,
     "metadata": {
      "image/jpeg": {
       "height": 200,
       "width": 200
      }
     },
     "output_type": "execute_result"
    }
   ],
   "source": [
    "Image(os.path.join(train_dir, train_df.iloc[8, 0]),\n",
    "      width = 200, height = 200\n",
    "     )"
   ]
  },
  {
   "cell_type": "code",
   "execution_count": 4,
   "metadata": {
    "ExecuteTime": {
     "end_time": "2019-10-05T06:54:44.105418Z",
     "start_time": "2019-10-05T06:54:43.980299Z"
    }
   },
   "outputs": [
    {
     "name": "stdout",
     "output_type": "stream",
     "text": [
      "dataset has 17500 rows and 2 columns\n"
     ]
    }
   ],
   "source": [
    "print(\"dataset has {} rows and {} columns\".format(train_df.shape[0], train_df.shape[1]))"
   ]
  },
  {
   "cell_type": "markdown",
   "metadata": {
    "ExecuteTime": {
     "end_time": "2019-08-07T05:21:06.964547Z",
     "start_time": "2019-08-07T05:21:06.936287Z"
    }
   },
   "source": [
    "# Data preparation\n",
    "     \n",
    "\n",
    "    Read the picture files\n",
    "    Decode JPEG content to RGB pixels\n",
    "    Convert this into floating tensors\n",
    "    Rescale pixel values (between 0 to 255) to [0,1] interval.\n",
    "\n"
   ]
  },
  {
   "cell_type": "code",
   "execution_count": 5,
   "metadata": {
    "ExecuteTime": {
     "end_time": "2019-10-05T06:54:44.252271Z",
     "start_time": "2019-10-05T06:54:44.107801Z"
    }
   },
   "outputs": [],
   "source": [
    "datagen = ImageDataGenerator(rescale=1./255)"
   ]
  },
  {
   "cell_type": "code",
   "execution_count": 6,
   "metadata": {
    "ExecuteTime": {
     "end_time": "2019-10-05T06:54:44.350599Z",
     "start_time": "2019-10-05T06:54:44.254502Z"
    }
   },
   "outputs": [],
   "source": [
    "batch_size = 16"
   ]
  },
  {
   "cell_type": "markdown",
   "metadata": {},
   "source": [
    "\n",
    "\n",
    "###  flow_from_dataframe Method\n",
    "\n",
    "This method is useful when the images are clustered in only one folder. To put in other words images from different class/labels reside in only one folder. Generally, with such kind of data, some text files containing information on class and other parameters are provided. In this case, we will create a dataframe using pandas and text files provided, and create a meaningful dataframe with columns having file name (only the file names, not the path) and other classes to be used by the model. For this method, arguments to be used are:\n",
    "\n",
    "    dataframe value : Dataframe having meaningful data (file name, class columns are a must)\n",
    "    directory value : The path to the parent directory containing all images.\n",
    "    x_col value : which will be the name of column(in dataframe) having file names\n",
    "    y_col value : which will be the name of column(in dataframe) having class/label\n",
    "\n"
   ]
  },
  {
   "cell_type": "code",
   "execution_count": 7,
   "metadata": {
    "ExecuteTime": {
     "end_time": "2019-10-05T06:54:44.463216Z",
     "start_time": "2019-10-05T06:54:44.352258Z"
    }
   },
   "outputs": [],
   "source": [
    "# The x_col and y_col parameters of flow_from_dataframe accept\n",
    "# string input,\n",
    "# so we convert y_col value (has_cactus (int)) to string\n",
    "\n",
    "train_df.has_cactus = train_df.has_cactus.astype(str)"
   ]
  },
  {
   "cell_type": "code",
   "execution_count": 8,
   "metadata": {
    "ExecuteTime": {
     "end_time": "2019-10-05T06:54:44.718489Z",
     "start_time": "2019-10-05T06:54:44.465559Z"
    }
   },
   "outputs": [
    {
     "name": "stdout",
     "output_type": "stream",
     "text": [
      "Found 15001 validated image filenames belonging to 2 classes.\n"
     ]
    }
   ],
   "source": [
    "#use first 15000 for training and remaining for validation\n",
    "train_gen = datagen.flow_from_dataframe(dataframe = train_df[:15001], \n",
    "                                        directory = train_dir,\n",
    "                                        x_col = 'id',\n",
    "                                        y_col = 'has_cactus',\n",
    "                                        class_mode = 'binary',\n",
    "                                        batch_size = batch_size,\n",
    "                                        target_size = (32,32)\n",
    "                                       )"
   ]
  },
  {
   "cell_type": "code",
   "execution_count": 9,
   "metadata": {
    "ExecuteTime": {
     "end_time": "2019-10-05T06:54:44.913087Z",
     "start_time": "2019-10-05T06:54:44.721191Z"
    }
   },
   "outputs": [
    {
     "name": "stdout",
     "output_type": "stream",
     "text": [
      "Found 2499 validated image filenames belonging to 2 classes.\n"
     ]
    }
   ],
   "source": [
    "val_gen = datagen.flow_from_dataframe(dataframe = train_df[15001:],\n",
    "                                      directory = train_dir,\n",
    "                                      x_col = 'id',\n",
    "                                      y_col = 'has_cactus',\n",
    "                                      class_mode = 'binary',\n",
    "                                      batch_size = batch_size,\n",
    "                                      target_size = (32,32)\n",
    "                                     )"
   ]
  },
  {
   "cell_type": "markdown",
   "metadata": {},
   "source": [
    "### Modeling"
   ]
  },
  {
   "cell_type": "code",
   "execution_count": 10,
   "metadata": {
    "ExecuteTime": {
     "end_time": "2019-10-05T06:54:46.255619Z",
     "start_time": "2019-10-05T06:54:44.915462Z"
    }
   },
   "outputs": [
    {
     "name": "stdout",
     "output_type": "stream",
     "text": [
      "WARNING:tensorflow:From /home/shushrut/anaconda3/envs/tfg/lib/python3.7/site-packages/tensorflow/python/ops/init_ops.py:1251: calling VarianceScaling.__init__ (from tensorflow.python.ops.init_ops) with dtype is deprecated and will be removed in a future version.\n",
      "Instructions for updating:\n",
      "Call initializer instance with the dtype argument instead of passing it to the constructor\n",
      "WARNING:tensorflow:Large dropout rate: 0.6 (>0.5). In TensorFlow 2.x, dropout() uses dropout rate instead of keep_prob. Please ensure that this is intended.\n",
      "WARNING:tensorflow:Large dropout rate: 0.6 (>0.5). In TensorFlow 2.x, dropout() uses dropout rate instead of keep_prob. Please ensure that this is intended.\n",
      "WARNING:tensorflow:Large dropout rate: 0.6 (>0.5). In TensorFlow 2.x, dropout() uses dropout rate instead of keep_prob. Please ensure that this is intended.\n"
     ]
    }
   ],
   "source": [
    "dropout_dense_layer = 0.6\n",
    "\n",
    "model = Sequential()\n",
    "\n",
    "model.add(Conv2D(32, (3, 3), input_shape=(32,32,3)))\n",
    "model.add(BatchNormalization())\n",
    "model.add(Activation('relu'))\n",
    "\n",
    "model.add(Conv2D(32, (3, 3)))\n",
    "model.add(BatchNormalization())\n",
    "model.add(Activation('relu'))\n",
    "\n",
    "model.add(Conv2D(32, (3, 3)))\n",
    "model.add(BatchNormalization())\n",
    "model.add(Activation('relu'))\n",
    "model.add(MaxPooling2D(pool_size=(2, 2)))\n",
    "\n",
    "model.add(Conv2D(64, (3, 3)))\n",
    "model.add(BatchNormalization())\n",
    "model.add(Activation('relu'))\n",
    "\n",
    "model.add(Conv2D(64, (3, 3)))\n",
    "model.add(BatchNormalization())\n",
    "model.add(Activation('relu'))\n",
    "\n",
    "model.add(Conv2D(64, (3, 3)))\n",
    "model.add(BatchNormalization())\n",
    "model.add(Activation('relu'))\n",
    "model.add(MaxPooling2D(pool_size=(2, 2)))\n",
    "\n",
    "model.add(Conv2D(128, (3, 3)))\n",
    "model.add(BatchNormalization())\n",
    "model.add(Activation('relu'))\n",
    "\n",
    "model.add(Flatten())\n",
    "model.add(Dense(1024))\n",
    "model.add(Activation('relu'))\n",
    "model.add(Dropout(dropout_dense_layer))\n",
    "\n",
    "model.add(Dense(512))\n",
    "model.add(Activation('relu'))\n",
    "model.add(Dropout(dropout_dense_layer))\n",
    "\n",
    "model.add(Dense(512))\n",
    "model.add(Activation('relu'))\n",
    "model.add(Dropout(dropout_dense_layer))\n",
    "\n",
    "model.add(Dense(1))\n",
    "model.add(Activation('sigmoid'))"
   ]
  },
  {
   "cell_type": "code",
   "execution_count": 11,
   "metadata": {
    "ExecuteTime": {
     "end_time": "2019-10-05T06:54:46.352781Z",
     "start_time": "2019-10-05T06:54:46.257702Z"
    }
   },
   "outputs": [
    {
     "name": "stdout",
     "output_type": "stream",
     "text": [
      "WARNING:tensorflow:From /home/shushrut/anaconda3/envs/tfg/lib/python3.7/site-packages/tensorflow/python/ops/nn_impl.py:180: add_dispatch_support.<locals>.wrapper (from tensorflow.python.ops.array_ops) is deprecated and will be removed in a future version.\n",
      "Instructions for updating:\n",
      "Use tf.where in 2.0, which has the same broadcast rule as np.where\n"
     ]
    }
   ],
   "source": [
    "model.compile(optimizer = Adam(lr = .0007),\n",
    "              loss = 'binary_crossentropy',\n",
    "              metrics = ['accuracy']\n",
    "             )"
   ]
  },
  {
   "cell_type": "code",
   "execution_count": 12,
   "metadata": {
    "ExecuteTime": {
     "end_time": "2019-10-05T06:54:46.379841Z",
     "start_time": "2019-10-05T06:54:46.355174Z"
    }
   },
   "outputs": [],
   "source": [
    "callbacks = [EarlyStopping(monitor='val_loss', patience=20),\n",
    "             ModelCheckpoint(filepath='best_model.h5', monitor='val_loss', save_best_only=True)]"
   ]
  },
  {
   "cell_type": "code",
   "execution_count": 13,
   "metadata": {
    "ExecuteTime": {
     "end_time": "2019-10-05T07:19:10.791107Z",
     "start_time": "2019-10-05T06:54:46.382141Z"
    }
   },
   "outputs": [
    {
     "name": "stdout",
     "output_type": "stream",
     "text": [
      "Epoch 1/20\n",
      "938/938 [==============================] - 77s 82ms/step - loss: 0.1912 - acc: 0.9287 - val_loss: 0.0631 - val_acc: 0.9375\n",
      "Epoch 2/20\n",
      "938/938 [==============================] - 72s 77ms/step - loss: 0.1022 - acc: 0.9665 - val_loss: 0.1593 - val_acc: 0.9375\n",
      "Epoch 3/20\n",
      "938/938 [==============================] - 72s 77ms/step - loss: 0.0768 - acc: 0.9751 - val_loss: 0.1834 - val_acc: 0.9375\n",
      "Epoch 4/20\n",
      "938/938 [==============================] - 72s 77ms/step - loss: 0.0625 - acc: 0.9803 - val_loss: 0.0635 - val_acc: 0.9688\n",
      "Epoch 5/20\n",
      "938/938 [==============================] - 74s 79ms/step - loss: 0.0518 - acc: 0.9836 - val_loss: 0.0404 - val_acc: 0.9688\n",
      "Epoch 6/20\n",
      "938/938 [==============================] - 74s 78ms/step - loss: 0.0540 - acc: 0.9839 - val_loss: 0.0171 - val_acc: 1.0000\n",
      "Epoch 7/20\n",
      "938/938 [==============================] - 75s 80ms/step - loss: 0.0361 - acc: 0.9903 - val_loss: 0.0637 - val_acc: 0.9688\n",
      "Epoch 8/20\n",
      "938/938 [==============================] - 72s 77ms/step - loss: 0.0454 - acc: 0.9868 - val_loss: 0.0104 - val_acc: 1.0000\n",
      "Epoch 9/20\n",
      "938/938 [==============================] - 71s 76ms/step - loss: 0.0368 - acc: 0.9893 - val_loss: 0.0171 - val_acc: 1.0000\n",
      "Epoch 10/20\n",
      "938/938 [==============================] - 74s 79ms/step - loss: 0.0327 - acc: 0.9896 - val_loss: 2.5949 - val_acc: 0.8125\n",
      "Epoch 11/20\n",
      "938/938 [==============================] - 73s 78ms/step - loss: 0.0351 - acc: 0.9899 - val_loss: 0.0699 - val_acc: 0.9688\n",
      "Epoch 12/20\n",
      "938/938 [==============================] - 70s 75ms/step - loss: 0.0411 - acc: 0.9879 - val_loss: 8.8435e-04 - val_acc: 1.0000\n",
      "Epoch 13/20\n",
      "938/938 [==============================] - 72s 77ms/step - loss: 0.0247 - acc: 0.9936 - val_loss: 0.0332 - val_acc: 1.0000\n",
      "Epoch 14/20\n",
      "938/938 [==============================] - 74s 79ms/step - loss: 0.0166 - acc: 0.9948 - val_loss: 7.1941e-07 - val_acc: 1.0000\n",
      "Epoch 15/20\n",
      "938/938 [==============================] - 73s 78ms/step - loss: 0.0192 - acc: 0.9939 - val_loss: 0.0105 - val_acc: 1.0000\n",
      "Epoch 16/20\n",
      "938/938 [==============================] - 73s 78ms/step - loss: 0.0130 - acc: 0.9957 - val_loss: 0.0070 - val_acc: 1.0000\n",
      "Epoch 17/20\n",
      "938/938 [==============================] - 73s 78ms/step - loss: 0.0299 - acc: 0.9923 - val_loss: 7.0659e-04 - val_acc: 1.0000\n",
      "Epoch 18/20\n",
      "938/938 [==============================] - 73s 78ms/step - loss: 0.0175 - acc: 0.9945 - val_loss: 4.3641e-04 - val_acc: 1.0000\n",
      "Epoch 19/20\n",
      "938/938 [==============================] - 73s 78ms/step - loss: 0.0210 - acc: 0.9939 - val_loss: 1.2722e-04 - val_acc: 1.0000\n",
      "Epoch 20/20\n",
      "938/938 [==============================] - 73s 78ms/step - loss: 0.0146 - acc: 0.9952 - val_loss: 4.1222e-06 - val_acc: 1.0000\n"
     ]
    }
   ],
   "source": [
    "his = model.fit(train_gen,\n",
    "                epochs = 20,\n",
    "                validation_data = val_gen,\n",
    "                validation_steps = 2,\n",
    "                callbacks=callbacks,\n",
    "                )"
   ]
  },
  {
   "cell_type": "code",
   "execution_count": 14,
   "metadata": {
    "ExecuteTime": {
     "end_time": "2019-10-05T07:19:11.065285Z",
     "start_time": "2019-10-05T07:19:10.797850Z"
    }
   },
   "outputs": [
    {
     "data": {
      "image/png": "[encoded data removed]",
      "text/plain": [
       "<Figure size 432x288 with 1 Axes>"
      ]
     },
     "metadata": {
      "needs_background": "light"
     },
     "output_type": "display_data"
    }
   ],
   "source": [
    "plt.plot(his.history['loss'])\n",
    "plt.plot(his.history['val_loss'])\n",
    "plt.show()"
   ]
  },
  {
   "cell_type": "code",
   "execution_count": 15,
   "metadata": {
    "ExecuteTime": {
     "end_time": "2019-10-05T07:19:11.334201Z",
     "start_time": "2019-10-05T07:19:11.067828Z"
    }
   },
   "outputs": [
    {
     "data": {
      "image/png": "[encoded data removed]",
      "text/plain": [
       "<Figure size 432x288 with 1 Axes>"
      ]
     },
     "metadata": {
      "needs_background": "light"
     },
     "output_type": "display_data"
    }
   ],
   "source": [
    "plt.plot(his.history['acc'])\n",
    "plt.plot(his.history['val_acc'])\n",
    "plt.show()"
   ]
  }
 ],
 "metadata": {
  "kernelspec": {
   "display_name": "Python 3",
   "language": "python",
   "name": "python3"
  },
  "language_info": {
   "codemirror_mode": {
    "name": "ipython",
    "version": 3
   },
   "file_extension": ".py",
   "mimetype": "text/x-python",
   "name": "python",
   "nbconvert_exporter": "python",
   "pygments_lexer": "ipython3",
   "version": "3.7.4"
  }
 },
 "nbformat": 4,
 "nbformat_minor": 2
}
